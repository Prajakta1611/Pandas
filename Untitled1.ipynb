{
 "cells": [
  {
   "cell_type": "code",
   "execution_count": 1,
   "id": "6bba583e",
   "metadata": {},
   "outputs": [],
   "source": [
    "# Write a Pandas program to print a concise summary of the dataset"
   ]
  },
  {
   "cell_type": "code",
   "execution_count": 2,
   "id": "67aee9ac",
   "metadata": {},
   "outputs": [],
   "source": [
    "import numpy as  np\n",
    "import pandas as pd"
   ]
  },
  {
   "cell_type": "code",
   "execution_count": 3,
   "id": "87a947b9",
   "metadata": {},
   "outputs": [],
   "source": [
    "df = pd.read_csv(\"D:/tested.csv\")"
   ]
  },
  {
   "cell_type": "code",
   "execution_count": 4,
   "id": "c4b04700",
   "metadata": {},
   "outputs": [
    {
     "name": "stdout",
     "output_type": "stream",
     "text": [
      "<class 'pandas.core.frame.DataFrame'>\n",
      "RangeIndex: 418 entries, 0 to 417\n",
      "Data columns (total 12 columns):\n",
      " #   Column       Non-Null Count  Dtype  \n",
      "---  ------       --------------  -----  \n",
      " 0   PassengerId  418 non-null    int64  \n",
      " 1   Survived     418 non-null    int64  \n",
      " 2   Pclass       418 non-null    int64  \n",
      " 3   Name         418 non-null    object \n",
      " 4   Sex          418 non-null    object \n",
      " 5   Age          332 non-null    float64\n",
      " 6   SibSp        418 non-null    int64  \n",
      " 7   Parch        418 non-null    int64  \n",
      " 8   Ticket       418 non-null    object \n",
      " 9   Fare         417 non-null    float64\n",
      " 10  Cabin        91 non-null     object \n",
      " 11  Embarked     418 non-null    object \n",
      "dtypes: float64(2), int64(5), object(5)\n",
      "memory usage: 39.3+ KB\n"
     ]
    }
   ],
   "source": [
    "df.info()"
   ]
  },
  {
   "cell_type": "code",
   "execution_count": 5,
   "id": "77f527ad",
   "metadata": {},
   "outputs": [],
   "source": [
    "# Write a Pandas program to extract the column labels, shape and data types of the "
   ]
  },
  {
   "cell_type": "code",
   "execution_count": 6,
   "id": "aa90a63d",
   "metadata": {},
   "outputs": [
    {
     "data": {
      "text/plain": [
       "Index(['PassengerId', 'Survived', 'Pclass', 'Name', 'Sex', 'Age', 'SibSp',\n",
       "       'Parch', 'Ticket', 'Fare', 'Cabin', 'Embarked'],\n",
       "      dtype='object')"
      ]
     },
     "execution_count": 6,
     "metadata": {},
     "output_type": "execute_result"
    }
   ],
   "source": [
    "df.columns"
   ]
  },
  {
   "cell_type": "code",
   "execution_count": 7,
   "id": "ac3dcb79",
   "metadata": {},
   "outputs": [
    {
     "data": {
      "text/plain": [
       "PassengerId      int64\n",
       "Survived         int64\n",
       "Pclass           int64\n",
       "Name            object\n",
       "Sex             object\n",
       "Age            float64\n",
       "SibSp            int64\n",
       "Parch            int64\n",
       "Ticket          object\n",
       "Fare           float64\n",
       "Cabin           object\n",
       "Embarked        object\n",
       "dtype: object"
      ]
     },
     "execution_count": 7,
     "metadata": {},
     "output_type": "execute_result"
    }
   ],
   "source": [
    "df.dtypes"
   ]
  },
  {
   "cell_type": "code",
   "execution_count": 8,
   "id": "3f8302ac",
   "metadata": {},
   "outputs": [
    {
     "data": {
      "text/plain": [
       "(418, 12)"
      ]
     },
     "execution_count": 8,
     "metadata": {},
     "output_type": "execute_result"
    }
   ],
   "source": [
    "df.shape"
   ]
  },
  {
   "cell_type": "code",
   "execution_count": 9,
   "id": "8428ee13",
   "metadata": {},
   "outputs": [],
   "source": [
    "#  Write a Pandas program to create a Pivot table with multiple indexes from the data set of titanic.csv."
   ]
  },
  {
   "cell_type": "code",
   "execution_count": 10,
   "id": "470af929",
   "metadata": {},
   "outputs": [
    {
     "data": {
      "text/html": [
       "<div>\n",
       "<style scoped>\n",
       "    .dataframe tbody tr th:only-of-type {\n",
       "        vertical-align: middle;\n",
       "    }\n",
       "\n",
       "    .dataframe tbody tr th {\n",
       "        vertical-align: top;\n",
       "    }\n",
       "\n",
       "    .dataframe thead th {\n",
       "        text-align: right;\n",
       "    }\n",
       "</style>\n",
       "<table border=\"1\" class=\"dataframe\">\n",
       "  <thead>\n",
       "    <tr style=\"text-align: right;\">\n",
       "      <th></th>\n",
       "      <th></th>\n",
       "      <th>Cabin</th>\n",
       "      <th>Embarked</th>\n",
       "      <th>Fare</th>\n",
       "      <th>Name</th>\n",
       "      <th>Parch</th>\n",
       "      <th>PassengerId</th>\n",
       "      <th>Pclass</th>\n",
       "      <th>SibSp</th>\n",
       "      <th>Survived</th>\n",
       "      <th>Ticket</th>\n",
       "    </tr>\n",
       "    <tr>\n",
       "      <th>Sex</th>\n",
       "      <th>Age</th>\n",
       "      <th></th>\n",
       "      <th></th>\n",
       "      <th></th>\n",
       "      <th></th>\n",
       "      <th></th>\n",
       "      <th></th>\n",
       "      <th></th>\n",
       "      <th></th>\n",
       "      <th></th>\n",
       "      <th></th>\n",
       "    </tr>\n",
       "  </thead>\n",
       "  <tbody>\n",
       "    <tr>\n",
       "      <th rowspan=\"5\" valign=\"top\">female</th>\n",
       "      <th>0.17</th>\n",
       "      <td>0</td>\n",
       "      <td>S</td>\n",
       "      <td>20.5750</td>\n",
       "      <td>Dean, Miss. Elizabeth Gladys Millvina\"\"</td>\n",
       "      <td>2</td>\n",
       "      <td>1246</td>\n",
       "      <td>3</td>\n",
       "      <td>1</td>\n",
       "      <td>1</td>\n",
       "      <td>C.A. 2315</td>\n",
       "    </tr>\n",
       "    <tr>\n",
       "      <th>0.92</th>\n",
       "      <td>0</td>\n",
       "      <td>S</td>\n",
       "      <td>27.7500</td>\n",
       "      <td>West, Miss. Barbara J</td>\n",
       "      <td>2</td>\n",
       "      <td>1142</td>\n",
       "      <td>2</td>\n",
       "      <td>1</td>\n",
       "      <td>1</td>\n",
       "      <td>C.A. 34651</td>\n",
       "    </tr>\n",
       "    <tr>\n",
       "      <th>1.00</th>\n",
       "      <td>G6</td>\n",
       "      <td>SSC</td>\n",
       "      <td>70.4625</td>\n",
       "      <td>Sandstrom, Miss. Beatrice IreneKlasen, Miss. G...</td>\n",
       "      <td>4</td>\n",
       "      <td>3352</td>\n",
       "      <td>8</td>\n",
       "      <td>3</td>\n",
       "      <td>3</td>\n",
       "      <td>PP 9549350405SC/Paris 2123</td>\n",
       "    </tr>\n",
       "    <tr>\n",
       "      <th>2.00</th>\n",
       "      <td>0</td>\n",
       "      <td>S</td>\n",
       "      <td>20.2125</td>\n",
       "      <td>Rosblom, Miss. Salli Helena</td>\n",
       "      <td>1</td>\n",
       "      <td>1176</td>\n",
       "      <td>3</td>\n",
       "      <td>1</td>\n",
       "      <td>1</td>\n",
       "      <td>370129</td>\n",
       "    </tr>\n",
       "    <tr>\n",
       "      <th>3.00</th>\n",
       "      <td>0</td>\n",
       "      <td>S</td>\n",
       "      <td>13.7750</td>\n",
       "      <td>Peacock, Miss. Treasteall</td>\n",
       "      <td>1</td>\n",
       "      <td>1301</td>\n",
       "      <td>3</td>\n",
       "      <td>1</td>\n",
       "      <td>1</td>\n",
       "      <td>SOTON/O.Q. 3101315</td>\n",
       "    </tr>\n",
       "    <tr>\n",
       "      <th>...</th>\n",
       "      <th>...</th>\n",
       "      <td>...</td>\n",
       "      <td>...</td>\n",
       "      <td>...</td>\n",
       "      <td>...</td>\n",
       "      <td>...</td>\n",
       "      <td>...</td>\n",
       "      <td>...</td>\n",
       "      <td>...</td>\n",
       "      <td>...</td>\n",
       "      <td>...</td>\n",
       "    </tr>\n",
       "    <tr>\n",
       "      <th rowspan=\"5\" valign=\"top\">male</th>\n",
       "      <th>61.00</th>\n",
       "      <td>B57 B59 B63 B66</td>\n",
       "      <td>CQ</td>\n",
       "      <td>274.7250</td>\n",
       "      <td>Ryerson, Mr. Arthur LarnedLingane, Mr. John</td>\n",
       "      <td>3</td>\n",
       "      <td>2119</td>\n",
       "      <td>3</td>\n",
       "      <td>1</td>\n",
       "      <td>0</td>\n",
       "      <td>PC 17608235509</td>\n",
       "    </tr>\n",
       "    <tr>\n",
       "      <th>62.00</th>\n",
       "      <td>0</td>\n",
       "      <td>Q</td>\n",
       "      <td>9.6875</td>\n",
       "      <td>Myles, Mr. Thomas Francis</td>\n",
       "      <td>0</td>\n",
       "      <td>894</td>\n",
       "      <td>2</td>\n",
       "      <td>0</td>\n",
       "      <td>0</td>\n",
       "      <td>240276</td>\n",
       "    </tr>\n",
       "    <tr>\n",
       "      <th>63.00</th>\n",
       "      <td>0</td>\n",
       "      <td>S</td>\n",
       "      <td>26.0000</td>\n",
       "      <td>Howard, Mr. Benjamin</td>\n",
       "      <td>0</td>\n",
       "      <td>905</td>\n",
       "      <td>2</td>\n",
       "      <td>1</td>\n",
       "      <td>0</td>\n",
       "      <td>24065</td>\n",
       "    </tr>\n",
       "    <tr>\n",
       "      <th>64.00</th>\n",
       "      <td>D37</td>\n",
       "      <td>C</td>\n",
       "      <td>75.2500</td>\n",
       "      <td>Warren, Mr. Frank Manley</td>\n",
       "      <td>0</td>\n",
       "      <td>1128</td>\n",
       "      <td>1</td>\n",
       "      <td>1</td>\n",
       "      <td>0</td>\n",
       "      <td>110813</td>\n",
       "    </tr>\n",
       "    <tr>\n",
       "      <th>67.00</th>\n",
       "      <td>C55 C57</td>\n",
       "      <td>S</td>\n",
       "      <td>221.7792</td>\n",
       "      <td>Straus, Mr. Isidor</td>\n",
       "      <td>0</td>\n",
       "      <td>973</td>\n",
       "      <td>1</td>\n",
       "      <td>1</td>\n",
       "      <td>0</td>\n",
       "      <td>PC 17483</td>\n",
       "    </tr>\n",
       "  </tbody>\n",
       "</table>\n",
       "<p>115 rows × 10 columns</p>\n",
       "</div>"
      ],
      "text/plain": [
       "                        Cabin Embarked      Fare   \n",
       "Sex    Age                                         \n",
       "female 0.17                 0        S   20.5750  \\\n",
       "       0.92                 0        S   27.7500   \n",
       "       1.00                G6      SSC   70.4625   \n",
       "       2.00                 0        S   20.2125   \n",
       "       3.00                 0        S   13.7750   \n",
       "...                       ...      ...       ...   \n",
       "male   61.00  B57 B59 B63 B66       CQ  274.7250   \n",
       "       62.00                0        Q    9.6875   \n",
       "       63.00                0        S   26.0000   \n",
       "       64.00              D37        C   75.2500   \n",
       "       67.00          C55 C57        S  221.7792   \n",
       "\n",
       "                                                           Name  Parch   \n",
       "Sex    Age                                                               \n",
       "female 0.17             Dean, Miss. Elizabeth Gladys Millvina\"\"      2  \\\n",
       "       0.92                               West, Miss. Barbara J      2   \n",
       "       1.00   Sandstrom, Miss. Beatrice IreneKlasen, Miss. G...      4   \n",
       "       2.00                         Rosblom, Miss. Salli Helena      1   \n",
       "       3.00                           Peacock, Miss. Treasteall      1   \n",
       "...                                                         ...    ...   \n",
       "male   61.00        Ryerson, Mr. Arthur LarnedLingane, Mr. John      3   \n",
       "       62.00                          Myles, Mr. Thomas Francis      0   \n",
       "       63.00                               Howard, Mr. Benjamin      0   \n",
       "       64.00                           Warren, Mr. Frank Manley      0   \n",
       "       67.00                                 Straus, Mr. Isidor      0   \n",
       "\n",
       "              PassengerId  Pclass  SibSp  Survived                      Ticket  \n",
       "Sex    Age                                                                      \n",
       "female 0.17          1246       3      1         1                   C.A. 2315  \n",
       "       0.92          1142       2      1         1                  C.A. 34651  \n",
       "       1.00          3352       8      3         3  PP 9549350405SC/Paris 2123  \n",
       "       2.00          1176       3      1         1                      370129  \n",
       "       3.00          1301       3      1         1          SOTON/O.Q. 3101315  \n",
       "...                   ...     ...    ...       ...                         ...  \n",
       "male   61.00         2119       3      1         0              PC 17608235509  \n",
       "       62.00          894       2      0         0                      240276  \n",
       "       63.00          905       2      1         0                       24065  \n",
       "       64.00         1128       1      1         0                      110813  \n",
       "       67.00          973       1      1         0                    PC 17483  \n",
       "\n",
       "[115 rows x 10 columns]"
      ]
     },
     "execution_count": 10,
     "metadata": {},
     "output_type": "execute_result"
    }
   ],
   "source": [
    "pt = pd.pivot_table(df,index=[\"Sex\",\"Age\"], aggfunc=np.sum)\n",
    "pt"
   ]
  },
  {
   "cell_type": "code",
   "execution_count": null,
   "id": "a511f0e0",
   "metadata": {},
   "outputs": [],
   "source": []
  }
 ],
 "metadata": {
  "kernelspec": {
   "display_name": "Python 3.11.3 64-bit",
   "language": "python",
   "name": "python3"
  },
  "language_info": {
   "codemirror_mode": {
    "name": "ipython",
    "version": 3
   },
   "file_extension": ".py",
   "mimetype": "text/x-python",
   "name": "python",
   "nbconvert_exporter": "python",
   "pygments_lexer": "ipython3",
   "version": "3.11.3"
  },
  "vscode": {
   "interpreter": {
    "hash": "b91f41160b83ffc59c7e17fa6fd02d637d5dcf1d5e59aa2db87d82178661b954"
   }
  }
 },
 "nbformat": 4,
 "nbformat_minor": 5
}
